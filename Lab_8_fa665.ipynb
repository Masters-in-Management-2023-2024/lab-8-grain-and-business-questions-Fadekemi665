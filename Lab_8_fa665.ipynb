{
  "nbformat": 4,
  "nbformat_minor": 0,
  "metadata": {
    "colab": {
      "provenance": []
    },
    "kernelspec": {
      "name": "python3",
      "display_name": "Python 3"
    },
    "language_info": {
      "name": "python"
    }
  },
  "cells": [
    {
      "cell_type": "code",
      "execution_count": null,
      "metadata": {
        "colab": {
          "base_uri": "https://localhost:8080/"
        },
        "id": "Pf6bXKh3p5VM",
        "outputId": "36e2ebd1-3489-43e9-f082-bbbbc029ba35"
      },
      "outputs": [
        {
          "output_type": "stream",
          "name": "stdout",
          "text": [
            "Loading diamonds dataset...\n",
            "Dataset loaded successfully!\n"
          ]
        }
      ],
      "source": [
        "import polars as pl\n",
        "\n",
        "# Load the diamonds dataset\n",
        "print(\"Loading diamonds dataset...\")\n",
        "df = pl.read_csv('https://raw.githubusercontent.com/pycaret/pycaret/master/datasets/diamond.csv')\n",
        "print(\"Dataset loaded successfully!\")"
      ]
    },
    {
      "cell_type": "markdown",
      "source": [
        "**SECTION 1**"
      ],
      "metadata": {
        "id": "PJG9524Jq7-G"
      }
    },
    {
      "cell_type": "code",
      "source": [
        "#Question 1\n",
        "\n",
        "# Number of rows in the dataset\n",
        "print(f\"Our inventory database contains {df.shape[0]} records.\")\n",
        "\n",
        "rows, cols = df.shape\n",
        "print(f\"Our inventory database contains {rows} records across {cols} fields.\")"
      ],
      "metadata": {
        "colab": {
          "base_uri": "https://localhost:8080/"
        },
        "id": "31amv-4aqLX6",
        "outputId": "cd9e3fab-ec0f-40f5-9032-69e8dc9f8362"
      },
      "execution_count": null,
      "outputs": [
        {
          "output_type": "stream",
          "name": "stdout",
          "text": [
            "Our inventory database contains 6000 records.\n",
            "Our inventory database contains 6000 records across 8 fields.\n"
          ]
        }
      ]
    },
    {
      "cell_type": "code",
      "source": [
        "#Question 2\n",
        "\n",
        "# List all column names\n",
        "print(\"We track the following characteristics about each diamond:\")\n",
        "print(df.columns)"
      ],
      "metadata": {
        "colab": {
          "base_uri": "https://localhost:8080/"
        },
        "id": "jnDQZ7LIq3Wa",
        "outputId": "b4130bb1-71a9-4af5-95a2-2efad896264f"
      },
      "execution_count": null,
      "outputs": [
        {
          "output_type": "stream",
          "name": "stdout",
          "text": [
            "We track the following characteristics about each diamond:\n",
            "['Carat Weight', 'Cut', 'Color', 'Clarity', 'Polish', 'Symmetry', 'Report', 'Price']\n"
          ]
        }
      ]
    },
    {
      "cell_type": "code",
      "source": [
        "#Question 3\n",
        "\n",
        "print(\"Each row represents a single diamond in our inventory with its full set of recorded attributes.\")"
      ],
      "metadata": {
        "colab": {
          "base_uri": "https://localhost:8080/"
        },
        "id": "m0SbFHegrjl1",
        "outputId": "ce7e5fae-06a1-4f61-b973-54eb0dfb4e93"
      },
      "execution_count": null,
      "outputs": [
        {
          "output_type": "stream",
          "name": "stdout",
          "text": [
            "Each row represents a single diamond in our inventory with its full set of recorded attributes.\n"
          ]
        }
      ]
    },
    {
      "cell_type": "markdown",
      "source": [
        "**SECTION 2**"
      ],
      "metadata": {
        "id": "RE8bntITr63z"
      }
    },
    {
      "cell_type": "code",
      "source": [
        "#Question 4\n",
        "\n",
        "# Total carats in inventory\n",
        "total_carats = df[\"Carat Weight\"].sum()\n",
        "print(f\"Our total inventory weighs {total_carats:.2f} carats.\")"
      ],
      "metadata": {
        "colab": {
          "base_uri": "https://localhost:8080/"
        },
        "id": "E-iAWXCdr_3x",
        "outputId": "202ce49f-b73d-4e3c-cf04-90bd73c4e3ac"
      },
      "execution_count": null,
      "outputs": [
        {
          "output_type": "stream",
          "name": "stdout",
          "text": [
            "Our total inventory weighs 8007.12 carats.\n"
          ]
        }
      ]
    },
    {
      "cell_type": "code",
      "source": [
        "#Question 5\n",
        "\n",
        "# Number of unique cuts\n",
        "unique_cuts = df[\"Cut\"].n_unique()\n",
        "print(f\"We offer {unique_cuts} unique diamond cuts: {df['Cut'].unique().to_list()}\")"
      ],
      "metadata": {
        "colab": {
          "base_uri": "https://localhost:8080/"
        },
        "id": "HWkVAyMCs-Ci",
        "outputId": "6bb77442-3bbd-450e-e09c-e09a252b6b27"
      },
      "execution_count": null,
      "outputs": [
        {
          "output_type": "stream",
          "name": "stdout",
          "text": [
            "We offer 5 unique diamond cuts: ['Very Good', 'Ideal', 'Fair', 'Good', 'Signature-Ideal']\n"
          ]
        }
      ]
    },
    {
      "cell_type": "code",
      "source": [
        "#Question 6\n",
        "\n",
        "# Most valuable diamond\n",
        "most_valuable = df.filter(df[\"Price\"] == df[\"Price\"].max())\n",
        "\n",
        "# Least valuable diamond\n",
        "least_valuable = df.filter(df[\"Price\"] == df[\"Price\"].min())\n",
        "\n",
        "print(\"Most valuable diamond:\")\n",
        "print(most_valuable)\n",
        "\n",
        "print(\"\\nLeast valuable diamond:\")\n",
        "print(least_valuable)"
      ],
      "metadata": {
        "colab": {
          "base_uri": "https://localhost:8080/"
        },
        "id": "JcE9qYk8tV_4",
        "outputId": "6ae4457b-61c0-47c2-9d16-52673e8f71af"
      },
      "execution_count": null,
      "outputs": [
        {
          "output_type": "stream",
          "name": "stdout",
          "text": [
            "Most valuable diamond:\n",
            "shape: (1, 8)\n",
            "┌──────────────┬───────┬───────┬─────────┬────────┬──────────┬────────┬────────┐\n",
            "│ Carat Weight ┆ Cut   ┆ Color ┆ Clarity ┆ Polish ┆ Symmetry ┆ Report ┆ Price  │\n",
            "│ ---          ┆ ---   ┆ ---   ┆ ---     ┆ ---    ┆ ---      ┆ ---    ┆ ---    │\n",
            "│ f64          ┆ str   ┆ str   ┆ str     ┆ str    ┆ str      ┆ str    ┆ i64    │\n",
            "╞══════════════╪═══════╪═══════╪═════════╪════════╪══════════╪════════╪════════╡\n",
            "│ 2.79         ┆ Ideal ┆ D     ┆ IF      ┆ EX     ┆ EX       ┆ GIA    ┆ 101561 │\n",
            "└──────────────┴───────┴───────┴─────────┴────────┴──────────┴────────┴────────┘\n",
            "\n",
            "Least valuable diamond:\n",
            "shape: (1, 8)\n",
            "┌──────────────┬──────┬───────┬─────────┬────────┬──────────┬────────┬───────┐\n",
            "│ Carat Weight ┆ Cut  ┆ Color ┆ Clarity ┆ Polish ┆ Symmetry ┆ Report ┆ Price │\n",
            "│ ---          ┆ ---  ┆ ---   ┆ ---     ┆ ---    ┆ ---      ┆ ---    ┆ ---   │\n",
            "│ f64          ┆ str  ┆ str   ┆ str     ┆ str    ┆ str      ┆ str    ┆ i64   │\n",
            "╞══════════════╪══════╪═══════╪═════════╪════════╪══════════╪════════╪═══════╡\n",
            "│ 0.77         ┆ Good ┆ I     ┆ VS1     ┆ VG     ┆ G        ┆ AGSL   ┆ 2184  │\n",
            "└──────────────┴──────┴───────┴─────────┴────────┴──────────┴────────┴───────┘\n"
          ]
        }
      ]
    },
    {
      "cell_type": "code",
      "source": [
        "#Question 7\n",
        "\n",
        "# Average price per color grade\n",
        "avg_price_by_color = (\n",
        "    df.group_by(\"Color\")\n",
        "      .agg(pl.col(\"Price\").mean().alias(\"average_price\"))\n",
        "      .sort(\"average_price\", descending=True)\n",
        ")\n",
        "\n",
        "print(avg_price_by_color)"
      ],
      "metadata": {
        "colab": {
          "base_uri": "https://localhost:8080/"
        },
        "id": "2-cjTnNMtwUi",
        "outputId": "e830ec7e-c9f0-4bc7-f61d-8490cf97766d"
      },
      "execution_count": null,
      "outputs": [
        {
          "output_type": "stream",
          "name": "stdout",
          "text": [
            "shape: (6, 2)\n",
            "┌───────┬───────────────┐\n",
            "│ Color ┆ average_price │\n",
            "│ ---   ┆ ---           │\n",
            "│ str   ┆ f64           │\n",
            "╞═══════╪═══════════════╡\n",
            "│ D     ┆ 15255.783661  │\n",
            "│ F     ┆ 12712.241856  │\n",
            "│ G     ┆ 12520.050633  │\n",
            "│ E     ┆ 11539.190231  │\n",
            "│ H     ┆ 10487.347544  │\n",
            "│ I     ┆ 8989.636364   │\n",
            "└───────┴───────────────┘\n"
          ]
        }
      ]
    },
    {
      "cell_type": "markdown",
      "source": [
        "Originally, each row was one individual diamond.\n",
        "\n",
        "After grouping by color, each row now represents:\n",
        "\n",
        "One color grade, summarized by its average price across all diamonds of that color.\n",
        "\n",
        "New grain = Diamond color category with aggregated pricing information."
      ],
      "metadata": {
        "id": "fdzWPJOJucCh"
      }
    },
    {
      "cell_type": "markdown",
      "source": [
        "**SECTION 3**"
      ],
      "metadata": {
        "id": "JAE-9FiUuevD"
      }
    },
    {
      "cell_type": "code",
      "source": [
        "# Question 8\n",
        "\n",
        "# Breakdown by clarity grade\n",
        "clarity_breakdown = (\n",
        "    df.group_by(\"Clarity\")\n",
        "      .agg([\n",
        "          pl.count().alias(\"diamond_count\"),\n",
        "          pl.col(\"Price\").mean().alias(\"average_price\"),\n",
        "          pl.col(\"Carat Weight\").sum().alias(\"total_carats\")\n",
        "      ])\n",
        "      .sort(\"average_price\", descending=True)  # Optional: sort by avg price\n",
        ")\n",
        "\n",
        "print(clarity_breakdown)"
      ],
      "metadata": {
        "colab": {
          "base_uri": "https://localhost:8080/"
        },
        "id": "KB-YP2UXu7Yj",
        "outputId": "ad821db9-62c9-4ce2-b1ad-faa72f450223"
      },
      "execution_count": null,
      "outputs": [
        {
          "output_type": "stream",
          "name": "stdout",
          "text": [
            "shape: (7, 4)\n",
            "┌─────────┬───────────────┬───────────────┬──────────────┐\n",
            "│ Clarity ┆ diamond_count ┆ average_price ┆ total_carats │\n",
            "│ ---     ┆ ---           ┆ ---           ┆ ---          │\n",
            "│ str     ┆ u32           ┆ f64           ┆ f64          │\n",
            "╞═════════╪═══════════════╪═══════════════╪══════════════╡\n",
            "│ FL      ┆ 4             ┆ 63776.0       ┆ 7.87         │\n",
            "│ IF      ┆ 219           ┆ 22105.844749  ┆ 316.0        │\n",
            "│ VVS1    ┆ 285           ┆ 16845.680702  ┆ 389.43       │\n",
            "│ VVS2    ┆ 666           ┆ 14142.177177  ┆ 876.58       │\n",
            "│ VS1     ┆ 1192          ┆ 13694.113255  ┆ 1682.74      │\n",
            "│ VS2     ┆ 1575          ┆ 11809.053333  ┆ 2170.81      │\n",
            "│ SI1     ┆ 2059          ┆ 8018.864012   ┆ 2563.69      │\n",
            "└─────────┴───────────────┴───────────────┴──────────────┘\n"
          ]
        },
        {
          "output_type": "stream",
          "name": "stderr",
          "text": [
            "/tmp/ipython-input-4085375986.py:7: DeprecationWarning: `pl.count()` is deprecated. Please use `pl.len()` instead.\n",
            "  pl.count().alias(\"diamond_count\"),\n"
          ]
        }
      ]
    },
    {
      "cell_type": "code",
      "source": [
        "#Question 9\n",
        "\n",
        "# Average price by cut and color\n",
        "price_by_cut_color = (\n",
        "    df.group_by([\"Cut\", \"Color\"])\n",
        "      .agg(pl.col(\"Price\").mean().alias(\"average_price\"))\n",
        "      .sort([\"Cut\", \"Color\"])\n",
        ")\n",
        "\n",
        "print(price_by_cut_color)"
      ],
      "metadata": {
        "colab": {
          "base_uri": "https://localhost:8080/"
        },
        "id": "MvwhKFy5vNtY",
        "outputId": "ddb1a90a-cbb7-4492-a850-5ed6e06e4ac8"
      },
      "execution_count": null,
      "outputs": [
        {
          "output_type": "stream",
          "name": "stdout",
          "text": [
            "shape: (30, 3)\n",
            "┌───────────┬───────┬───────────────┐\n",
            "│ Cut       ┆ Color ┆ average_price │\n",
            "│ ---       ┆ ---   ┆ ---           │\n",
            "│ str       ┆ str   ┆ f64           │\n",
            "╞═══════════╪═══════╪═══════════════╡\n",
            "│ Fair      ┆ D     ┆ 6058.25       │\n",
            "│ Fair      ┆ E     ┆ 5370.625      │\n",
            "│ Fair      ┆ F     ┆ 6063.625      │\n",
            "│ Fair      ┆ G     ┆ 7345.52381    │\n",
            "│ Fair      ┆ H     ┆ 5908.5        │\n",
            "│ …         ┆ …     ┆ …             │\n",
            "│ Very Good ┆ E     ┆ 12101.910217  │\n",
            "│ Very Good ┆ F     ┆ 12413.905495  │\n",
            "│ Very Good ┆ G     ┆ 12354.013841  │\n",
            "│ Very Good ┆ H     ┆ 10056.106132  │\n",
            "│ Very Good ┆ I     ┆ 8930.031332   │\n",
            "└───────────┴───────┴───────────────┘\n"
          ]
        }
      ]
    },
    {
      "cell_type": "markdown",
      "source": [
        "New grain = Each row now represents a unique cut-color combination, aggregated to show the average price for that specific combination."
      ],
      "metadata": {
        "id": "joxAyv6KvqwF"
      }
    },
    {
      "cell_type": "code",
      "source": [
        "# Question 10\n",
        "\n",
        "# Total value and count by cut-color combination\n",
        "value_by_cut_color = (\n",
        "    df.group_by([\"Cut\", \"Color\"])\n",
        "      .agg([\n",
        "          pl.sum(\"Price\").alias(\"total_value\"),\n",
        "          pl.len().alias(\"diamond_count\")\n",
        "      ])\n",
        "      .sort(\"total_value\", descending=True)\n",
        "      .head(5)\n",
        ")\n",
        "\n",
        "print(value_by_cut_color)"
      ],
      "metadata": {
        "colab": {
          "base_uri": "https://localhost:8080/"
        },
        "id": "0yAHK6ZPvtwk",
        "outputId": "8e3a2e32-1633-4342-fa4a-9b2c31ee85af"
      },
      "execution_count": null,
      "outputs": [
        {
          "output_type": "stream",
          "name": "stdout",
          "text": [
            "shape: (5, 4)\n",
            "┌───────────┬───────┬─────────────┬───────────────┐\n",
            "│ Cut       ┆ Color ┆ total_value ┆ diamond_count │\n",
            "│ ---       ┆ ---   ┆ ---         ┆ ---           │\n",
            "│ str       ┆ str   ┆ i64         ┆ u32           │\n",
            "╞═══════════╪═══════╪═════════════╪═══════════════╡\n",
            "│ Ideal     ┆ G     ┆ 9363514     ┆ 690           │\n",
            "│ Very Good ┆ G     ┆ 7140620     ┆ 578           │\n",
            "│ Very Good ┆ F     ┆ 5648327     ┆ 455           │\n",
            "│ Ideal     ┆ F     ┆ 5346782     ┆ 363           │\n",
            "│ Ideal     ┆ H     ┆ 5279687     ┆ 458           │\n",
            "└───────────┴───────┴─────────────┴───────────────┘\n"
          ]
        }
      ]
    }
  ]
}